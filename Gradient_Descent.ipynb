{
 "cells": [
  {
   "cell_type": "markdown",
   "metadata": {},
   "source": [
    "### Automatic Differentiation : PyTorch의 Back Propagation"
   ]
  },
  {
   "cell_type": "markdown",
   "metadata": {},
   "source": [
    "- PyTorch에서는 built-in function인 torch.autograd를 통해 back propagation을 수행할 수 있다\n",
    "- 이를 이용해 model weight의 gradient를 계산하여 computational graph에 저장한다"
   ]
  },
  {
   "cell_type": "markdown",
   "metadata": {},
   "source": [
    "### Computational Graph의 예시\n",
    "\n",
    "- input = x\n",
    "- parameters = W, b\n",
    "- activation function = tanh\n",
    "- loss function = MSE"
   ]
  },
  {
   "cell_type": "code",
   "execution_count": 4,
   "metadata": {},
   "outputs": [],
   "source": [
    "import torch\n",
    "\n",
    "x = torch.rand(10)\n",
    "y = torch.zeros(5)\n",
    "W = torch.rand(10,5, requires_grad = True)\n",
    "b = torch.rand(5, requires_grad = True)\n",
    "h = torch.matmul(x, W) + b\n",
    "h = torch.tanh(h)\n",
    "\n",
    "loss = torch.sum(torch.square(y-h))"
   ]
  },
  {
   "cell_type": "markdown",
   "metadata": {},
   "source": [
    "### Computing Gradients\n",
    "\n",
    "- output.backward()를 실행하면 output tensor를 각 parameter에 대해 미분한 경사들을 자동 계산\n",
    "- $\\frac{d(Output)}{d(tensor)}$는 torch.grad에 누적\n",
    "- 만약 기존에 .backward로 구해진 loss가 있다면 거기에 더해짐"
   ]
  },
  {
   "cell_type": "code",
   "execution_count": 5,
   "metadata": {},
   "outputs": [
    {
     "name": "stdout",
     "output_type": "stream",
     "text": [
      "tensor([[1.4035e-02, 6.2189e-03, 1.6398e-03, 3.0936e-04, 2.6236e-03],\n",
      "        [1.1455e-02, 5.0756e-03, 1.3383e-03, 2.5249e-04, 2.1413e-03],\n",
      "        [3.7792e-02, 1.6745e-02, 4.4154e-03, 8.3301e-04, 7.0644e-03],\n",
      "        [7.2314e-03, 3.2042e-03, 8.4488e-04, 1.5940e-04, 1.3518e-03],\n",
      "        [1.8033e-01, 7.9903e-02, 2.1069e-02, 3.9748e-03, 3.3709e-02],\n",
      "        [9.1247e-02, 4.0431e-02, 1.0661e-02, 2.0113e-03, 1.7057e-02],\n",
      "        [1.1405e-01, 5.0534e-02, 1.3325e-02, 2.5138e-03, 2.1319e-02],\n",
      "        [1.0854e-01, 4.8095e-02, 1.2681e-02, 2.3925e-03, 2.0290e-02],\n",
      "        [1.3186e-01, 5.8426e-02, 1.5406e-02, 2.9064e-03, 2.4648e-02],\n",
      "        [1.8478e-01, 8.1876e-02, 2.1589e-02, 4.0730e-03, 3.4541e-02]])\n",
      "tensor([0.2316, 0.1026, 0.0271, 0.0051, 0.0433])\n"
     ]
    }
   ],
   "source": [
    "loss.backward()\n",
    "print(W.grad)\n",
    "print(b.grad)"
   ]
  },
  {
   "cell_type": "markdown",
   "metadata": {},
   "source": [
    "##### W.grad의 결과가 바로 i번째 Gradient에 해당하는 야코비안 행렬이다. 이 코드에서 행렬이 하나인 이유는 Layer를 1개만 설정했기 때문이다."
   ]
  }
 ],
 "metadata": {
  "kernelspec": {
   "display_name": "base",
   "language": "python",
   "name": "python3"
  },
  "language_info": {
   "codemirror_mode": {
    "name": "ipython",
    "version": 3
   },
   "file_extension": ".py",
   "mimetype": "text/x-python",
   "name": "python",
   "nbconvert_exporter": "python",
   "pygments_lexer": "ipython3",
   "version": "3.11.7"
  }
 },
 "nbformat": 4,
 "nbformat_minor": 2
}
